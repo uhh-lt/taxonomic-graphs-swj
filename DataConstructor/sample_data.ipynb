{
 "cells": [
  {
   "cell_type": "code",
   "execution_count": 1,
   "metadata": {},
   "outputs": [],
   "source": [
    "import networkx as nx\n",
    "from tqdm import tqdm\n",
    "import random\n",
    "from leafer import Leafer\n",
    "import numpy as np\n",
    "import pickle\n",
    "import os\n",
    "import glob\n",
    "\n",
    "\n",
    "seed = 42\n",
    "random.seed(seed)\n",
    "np.random.seed(seed)"
   ]
  },
  {
   "cell_type": "code",
   "execution_count": 3,
   "metadata": {},
   "outputs": [],
   "source": [
    "G = nx.read_edgelist('path to your graph edgelist', delimiter='\\t', create_using=nx.DiGraph)"
   ]
  },
  {
   "cell_type": "code",
   "execution_count": 5,
   "metadata": {},
   "outputs": [
    {
     "name": "stdout",
     "output_type": "stream",
     "text": [
      "[('restrain.v.01', 'inhibit.v.04'), ('inhibit.v.04', 'restrain.v.01')]\n"
     ]
    }
   ],
   "source": [
    "# removing cycles if any\n",
    "while True:\n",
    "    try:\n",
    "        cycle = nx.find_cycle(G)\n",
    "        print(cycle)\n",
    "        G.remove_edge(*cycle[0])\n",
    "    except:\n",
    "        break"
   ]
  },
  {
   "cell_type": "code",
   "execution_count": 8,
   "metadata": {},
   "outputs": [
    {
     "name": "stdout",
     "output_type": "stream",
     "text": [
      "predict_hypernym 2736 2736\n",
      "predict_hypernym 143 143\n"
     ]
    }
   ],
   "source": [
    "l = Leafer(G)\n",
    "\n",
    "train, test = l.split_train_test(\n",
    "    generation_depth=0,  # level of topology sort to start from\n",
    "    p=0.05,  # probability of sample going to test\n",
    "    p_divide_leafs=0.5,\n",
    "    # probability of dividing leafs in half and not put whole in train or test\n",
    "    min_to_test_rate=0.5,\n",
    "    # min rate of nodes that were not seen in train to let them be divided into halves \n",
    "    # to go train and test corresponding\n",
    "    # for example if 6 out of 10 were in train, then all 10 goes to train\n",
    "    # but if only 5 out of 10 were in train, then we have a possibility\n",
    "    # to put left half in the test\n",
    "    weights=[0.00, 0.0, 0.0, 0.00, 0.00, 1.],\n",
    "    # probabilities of taking\n",
    "    # Single leaves, Only Leaves, Internal Nodes, Synset mixing, Insertion, Hypernym prediction\n",
    ")"
   ]
  },
  {
   "cell_type": "code",
   "execution_count": 9,
   "metadata": {},
   "outputs": [
    {
     "data": {
      "text/plain": [
       "(2736, 143)"
      ]
     },
     "execution_count": 9,
     "metadata": {},
     "output_type": "execute_result"
    }
   ],
   "source": [
    "len(train), len(test)"
   ]
  },
  {
   "cell_type": "code",
   "execution_count": 10,
   "metadata": {},
   "outputs": [],
   "source": [
    "train_count = {}\n",
    "for elem in train:\n",
    "    if elem[\"case\"] in train_count.keys():\n",
    "        train_count[elem[\"case\"]] += 1\n",
    "\n",
    "    else:\n",
    "        train_count[elem[\"case\"]] = 1\n",
    "\n",
    "test_count = {}\n",
    "for elem in test:\n",
    "    if elem[\"case\"] in test_count.keys():\n",
    "        test_count[elem[\"case\"]] += 1\n",
    "\n",
    "    else:\n",
    "        test_count[elem[\"case\"]] = 1"
   ]
  },
  {
   "cell_type": "code",
   "execution_count": 11,
   "metadata": {},
   "outputs": [
    {
     "data": {
      "text/plain": [
       "({'predict_hypernym': 2736}, {'predict_hypernym': 143})"
      ]
     },
     "execution_count": 11,
     "metadata": {},
     "output_type": "execute_result"
    }
   ],
   "source": [
    "train_count, test_count"
   ]
  },
  {
   "cell_type": "code",
   "execution_count": 16,
   "metadata": {},
   "outputs": [],
   "source": [
    "name_train = \"train path . pickle\"\n",
    "name_test = \"test path .pickle\"\n",
    "\n",
    "with open(name_train, \"wb\") as handle:\n",
    "    pickle.dump(train, handle)\n",
    "\n",
    "with open(name_test, \"wb\") as handle:\n",
    "    pickle.dump(test, handle)"
   ]
  }
 ],
 "metadata": {
  "kernelspec": {
   "display_name": "dataload_env",
   "language": "python",
   "name": "python3"
  },
  "language_info": {
   "codemirror_mode": {
    "name": "ipython",
    "version": 3
   },
   "file_extension": ".py",
   "mimetype": "text/x-python",
   "name": "python",
   "nbconvert_exporter": "python",
   "pygments_lexer": "ipython3",
   "version": "3.10.12"
  },
  "orig_nbformat": 4
 },
 "nbformat": 4,
 "nbformat_minor": 2
}
