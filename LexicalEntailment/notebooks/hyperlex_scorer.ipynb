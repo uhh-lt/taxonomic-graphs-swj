{
 "cells": [
  {
   "cell_type": "code",
   "execution_count": 15,
   "metadata": {},
   "outputs": [],
   "source": [
    "import pickle\n",
    "import scipy\n",
    "import numpy as np\n",
    "from sklearn import preprocessing, svm\n",
    "from sklearn.pipeline import make_pipeline\n",
    "from sklearn.preprocessing import StandardScaler, MaxAbsScaler, MinMaxScaler, RobustScaler, normalize\n",
    "from tqdm import tqdm\n",
    "import pandas as pd"
   ]
  },
  {
   "cell_type": "code",
   "execution_count": 4,
   "metadata": {},
   "outputs": [],
   "source": [
    "with open('../data/hyperlex_pairs_ppl.pickle', 'rb') as f:\n",
    "    t = pickle.load(f)\n",
    "\n",
    "ppl_dict = dict()\n",
    "for elements in t.items():\n",
    "    v1 = elements[0][0].split('(')[0].strip(' ')\n",
    "    v2 = elements[0][1].strip(',')\n",
    "    ppl = elements[1]\n",
    "    ppl_dict[(v1, v2)] = ppl"
   ]
  },
  {
   "cell_type": "code",
   "execution_count": 143,
   "metadata": {},
   "outputs": [],
   "source": [
    "train_df = {'forward': [], 'backward': [],  'label': [], 'from': [], 'to': []}\n",
    "test_df = {'forward': [], 'backward': [],  'label': []}\n",
    "\n",
    "\n",
    "with open('../data/hyperlex/splits/lexical/hyperlex_training_all_lexical.txt', 'r', encoding='utf-8') as f:\n",
    "    for line in f.readlines()[1:]:\n",
    "        splitted = line.split(' ')\n",
    "        v1 = splitted[0]\n",
    "        v2 = splitted[1]\n",
    "        score_10 = splitted[5]\n",
    "        if (v1, v2) in ppl_dict.keys():\n",
    "            train_df['forward'].append(ppl_dict[(v1, v2)])\n",
    "            train_df['backward'].append(ppl_dict[(v2, v1)])\n",
    "            train_df['label'].append(float(score_10))\n",
    "            train_df['from'].append(v2)\n",
    "            train_df['to'].append(v1)\n",
    "        else:\n",
    "            lost_train += 1\n",
    "\n",
    "with open('../data/hyperlex/splits/lexical/hyperlex_test_all_lexical.txt', 'r', encoding='utf-8') as f:\n",
    "    for line in f.readlines()[1:]:\n",
    "        splitted = line.split(' ')\n",
    "        v1 = splitted[0]\n",
    "        v2 = splitted[1]\n",
    "        score_10 = splitted[5]\n",
    "        if (v1, v2) in ppl_dict.keys():\n",
    "            test_df['forward'].append(ppl_dict[(v1, v2)])\n",
    "            test_df['backward'].append(ppl_dict[(v2, v1)])\n",
    "            test_df['label'].append(float(score_10))\n",
    "        else:\n",
    "            lost_test += 1"
   ]
  },
  {
   "cell_type": "code",
   "execution_count": 144,
   "metadata": {},
   "outputs": [],
   "source": [
    "train = pd.DataFrame(train_df)\n",
    "test = pd.DataFrame(test_df)"
   ]
  },
  {
   "cell_type": "code",
   "execution_count": 195,
   "metadata": {},
   "outputs": [],
   "source": [
    "y = np.array(test['label'])\n",
    "\n",
    "norm_test_pred = normalize([np.array(test['forward'])], norm='l2')[0].reshape(-1, 1).flatten()\n",
    "print('Spearman: ', scipy.stats.spearmanr(norm_test_pred, y))"
   ]
  }
 ],
 "metadata": {
  "kernelspec": {
   "display_name": "Python 3",
   "language": "python",
   "name": "python3"
  },
  "language_info": {
   "codemirror_mode": {
    "name": "ipython",
    "version": 3
   },
   "file_extension": ".py",
   "mimetype": "text/x-python",
   "name": "python",
   "nbconvert_exporter": "python",
   "pygments_lexer": "ipython3",
   "version": "3.10.12"
  }
 },
 "nbformat": 4,
 "nbformat_minor": 2
}
