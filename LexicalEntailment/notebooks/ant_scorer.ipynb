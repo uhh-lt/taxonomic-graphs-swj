{
 "cells": [
  {
   "cell_type": "code",
   "execution_count": 1,
   "metadata": {},
   "outputs": [],
   "source": [
    "import pickle\n",
    "from tqdm import tqdm\n",
    "import numpy as np\n",
    "import matplotlib.pyplot as plt\n",
    "from sklearn import preprocessing\n",
    "from sklearn.metrics import roc_auc_score, average_precision_score\n",
    "import pandas as pd\n",
    "from sklearn.linear_model import LogisticRegression\n",
    "from sklearn.ensemble import RandomForestClassifier\n",
    "from sklearn.tree import DecisionTreeClassifier"
   ]
  },
  {
   "cell_type": "code",
   "execution_count": 2,
   "metadata": {},
   "outputs": [],
   "source": [
    "\n",
    "perplexions_path = '../data/unified_clean_ant_pairs_formated_def.pickle'\n",
    "test_dataset_path = '../data/ant_test.txt'\n",
    "\n",
    "with open(perplexions_path, 'rb') as f: #(ребенок, родитель): перплексия\n",
    "    ppls = pickle.load(f)\n",
    "\n",
    "\n",
    "ppls_clean = dict()\n",
    "for item in ppls.items():\n",
    "    ppls_clean[(item[0][0].split('(')[0].strip(', '), item[0][1].strip(', '))] = item[1]\n"
   ]
  },
  {
   "cell_type": "code",
   "execution_count": 7,
   "metadata": {},
   "outputs": [],
   "source": [
    "pairs = []\n",
    "y_true = []\n",
    "non_reversed = []\n",
    "not_found = []\n",
    "data = []\n",
    "\n",
    "with open(test_dataset_path, 'r',encoding='utf-8') as f:\n",
    "    i = 0\n",
    "    lines = f.readlines()\n",
    "    for line in lines:\n",
    "        ex1, ex2, category = line.strip('\\n').split('\\t')\n",
    "        s11, v1, s12 = ex1.split(',')\n",
    "        s21, v2, s22 = ex2.split(',')\n",
    "        # if s11 == s21 and s12 == s22:\n",
    "        v1 = v1.strip(' ')\n",
    "        v2 = v2.strip(' ')\n",
    "        if category == 'directional_entailment': # child, parent\n",
    "            data.append((v1, v2, 1))\n",
    "\n",
    "        elif category == 'directional_non-entailment': # parent, child\n",
    "            data.append((v1, v2, 0))\n",
    "        # else:\n",
    "        #     non_reversed.append((s11, s12, v1, s21, s22, v2, category))\n",
    "\n",
    "y_true = [elem[2] for elem in data]"
   ]
  },
  {
   "cell_type": "code",
   "execution_count": 34,
   "metadata": {},
   "outputs": [],
   "source": [
    "df = {'forward':[], 'backward':[], 'target':[]}\n",
    "\n",
    "for child, parent, label in data:\n",
    "    if not (child, parent) in ppls_clean.keys():\n",
    "        #y_pred.append(1)\n",
    "        continue\n",
    "    \n",
    "    \n",
    "    forward_ppl = ppls_clean[(child, parent)]\n",
    "    backward_ppl = ppls_clean[(parent, child)]\n",
    "    df['forward'].append(forward_ppl)\n",
    "    df['backward'].append(backward_ppl)\n",
    "    df['target'].append(label)"
   ]
  },
  {
   "cell_type": "code",
   "execution_count": 35,
   "metadata": {},
   "outputs": [],
   "source": [
    "X = pd.DataFrame(df)"
   ]
  },
  {
   "cell_type": "code",
   "execution_count": 36,
   "metadata": {},
   "outputs": [],
   "source": [
    "X['frac'] = X['backward'] / X['forward']\n",
    "X['diff'] = X['backward'] - X['forward']\n",
    "X['mul'] = X['backward'] * X['forward']\n",
    "X['sign'] = X['frac'] < 0.5\n",
    "\n",
    "scaler = preprocessing.Normalizer()\n",
    "X[['forward', 'backward', 'frac', 'diff', 'mul']] = scaler.fit_transform(X[['forward', 'backward', 'frac', 'diff', 'mul']] )"
   ]
  },
  {
   "cell_type": "code",
   "execution_count": 38,
   "metadata": {},
   "outputs": [
    {
     "data": {
      "text/plain": [
       "(0.49965350460786445, 0.5077852708148656)"
      ]
     },
     "execution_count": 38,
     "metadata": {},
     "output_type": "execute_result"
    }
   ],
   "source": [
    "dropping = ['target', 'mul', 'sign', 'frac', 'backward', 'frac']\n",
    "\n",
    "logreg = LogisticRegression(C=1, max_iter=1000, fit_intercept=False)\n",
    "logreg.fit(X.drop(columns=dropping), X['target'])\n",
    "\n",
    "probas = logreg.predict_proba(X.drop(columns=dropping))\n",
    "y_pred = probas[:,1]\n",
    "y_true = X['target']\n",
    "\n",
    "roc_auc =  roc_auc_score(y_true, y_pred)\n",
    "ap = average_precision_score(y_true, y_pred)\n",
    "\n",
    "roc_auc, ap"
   ]
  },
  {
   "cell_type": "code",
   "execution_count": 39,
   "metadata": {},
   "outputs": [
    {
     "data": {
      "text/plain": [
       "(array([[1.17111725]]), array([0.]))"
      ]
     },
     "execution_count": 39,
     "metadata": {},
     "output_type": "execute_result"
    }
   ],
   "source": [
    "logreg.coef_, logreg.intercept_"
   ]
  }
 ],
 "metadata": {
  "kernelspec": {
   "display_name": "Python 3",
   "language": "python",
   "name": "python3"
  },
  "language_info": {
   "codemirror_mode": {
    "name": "ipython",
    "version": 3
   },
   "file_extension": ".py",
   "mimetype": "text/x-python",
   "name": "python",
   "nbconvert_exporter": "python",
   "pygments_lexer": "ipython3",
   "version": "3.10.12"
  }
 },
 "nbformat": 4,
 "nbformat_minor": 2
}
